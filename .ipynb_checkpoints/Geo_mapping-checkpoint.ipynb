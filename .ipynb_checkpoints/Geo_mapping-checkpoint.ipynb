{
 "cells": [
  {
   "cell_type": "markdown",
   "metadata": {},
   "source": [
    "# Learning Outside The Lines: Project your Data onto a Map"
   ]
  },
  {
   "cell_type": "code",
   "execution_count": 1,
   "metadata": {},
   "outputs": [],
   "source": [
    "import pandas as pd\n",
    "import geopandas as gpd\n",
    "import numpy as np\n",
    "from pyproj import Proj, transform\n",
    "\n",
    "import folium\n",
    "\n",
    "from json import dumps, load\n",
    "\n",
    "#SOURCE OF DATA http://www.indy.gov/eGov/City/DPS/IMPD/Crimes/Pages/UCRDownload.aspx\n",
    "\n"
   ]
  },
  {
   "cell_type": "markdown",
   "metadata": {},
   "source": [
    "### Understanding the Coordinate System \n",
    "\n",
    "The coordinate system for the IPS incident data spreadhseet is based on this state plane: \n",
    "NAD_1983_StatePlane_Indiana_East_FIPS_1301_Feet\n",
    "\n",
    "I refered to this website to verify the accuracy of the data:\n",
    "http://www.earthpoint.us/StatePlane.aspx\n",
    "Select 1301 Indiana East, using the US Survey in Feet\n",
    "\n",
    "ALSO READ THIS TO UNDERSTAND HOW TO HANDLE COORDINATE DATA IN ORDER TO PROJECT THEM ONTO A MAP:\n",
    "http://downloads2.esri.com/support/documentation/ao_/710Understanding_Map_Projections.pdf\n",
    "\n",
    "---------------------------------------------------------------------------------------------------------"
   ]
  },
  {
   "cell_type": "raw",
   "metadata": {},
   "source": [
    "inProj: input coordinate system\n",
    "outProj: output coordinate system (the basic lat log)\n",
    "This will be fed into the transform function and ultimate spit out the output long lat degrees.\n",
    "\n",
    "Not entirely sure why the parameter \"preserve_units\" must be true. I stumbled upon this in pure luck.\n",
    "\n",
    "I poured thorough the pyproj\\data folder in APPDATA to discover init parameters. I just searched for FIPS 1301 \n",
    "and discovered the comment: \"NAD 1983 StatePlane Indiana East FIPS 1301 Feet\""
   ]
  },
  {
   "cell_type": "code",
   "execution_count": 2,
   "metadata": {
    "collapsed": true
   },
   "outputs": [],
   "source": [
    "inProj = Proj(init='esri:102673', preserve_units=True)\n",
    "outProj = Proj(init='epsg:4326')\n",
    "\n",
    "def get_long_lat(x):\n",
    "    y_coord, x_coord = transform(inProj, outProj, x[0], x[1], radians=False)\n",
    "    return x_coord, y_coord"
   ]
  },
  {
   "cell_type": "code",
   "execution_count": 3,
   "metadata": {
    "collapsed": true
   },
   "outputs": [],
   "source": [
    "columnspecs = [(0,5), (5, 33), (33, 44), (44, 51), (51, 63), (63, 108), (108, 115), (115, 137), (137,159)]\n",
    "\n",
    "i2014 = pd.read_fwf(\"2014_incidents.txt\", \n",
    "                    skiprows=1, \n",
    "                    names=['UCR','CRIME','DATE','TIME','CASE','ADDRESS','BEAT','X_COORD','Y_COORD'],\n",
    "                    colspecs=columnspecs)\n",
    "\n",
    "i2015 = pd.read_fwf(\"2015_incidents.txt\", \n",
    "                    skiprows=1, \n",
    "                    names=['UCR','CRIME','DATE','TIME','CASE','ADDRESS','BEAT','X_COORD','Y_COORD'],\n",
    "                    colspecs=columnspecs)"
   ]
  },
  {
   "cell_type": "code",
   "execution_count": 4,
   "metadata": {
    "collapsed": true
   },
   "outputs": [],
   "source": [
    "i2016 = pd.read_csv(\"2016_incidents.csv\")\n",
    "i2016 = i2016[i2016.columns.drop(['ID', 'OBJECTID'])]\n",
    "i2016.columns = i2015.columns"
   ]
  },
  {
   "cell_type": "code",
   "execution_count": 5,
   "metadata": {},
   "outputs": [
    {
     "data": {
      "text/plain": [
       "True"
      ]
     },
     "execution_count": 5,
     "metadata": {},
     "output_type": "execute_result"
    }
   ],
   "source": [
    "all(i2014.dtypes == i2015.dtypes) == all(i2015.dtypes == i2016.dtypes)"
   ]
  },
  {
   "cell_type": "code",
   "execution_count": 6,
   "metadata": {
    "collapsed": true
   },
   "outputs": [],
   "source": [
    "df = i2014.append(i2015).copy()\n",
    "df = df.append(i2016).copy()\n",
    "df['GPS_COORD_X'], df['GPS_COORD_Y'] = zip(*df[['X_COORD', 'Y_COORD']].apply(get_long_lat, axis=1))\n",
    "\n",
    "#Erase\n",
    "i2014 = None\n",
    "i2015 = None\n",
    "i2016 = None"
   ]
  },
  {
   "cell_type": "code",
   "execution_count": 7,
   "metadata": {
    "collapsed": true
   },
   "outputs": [],
   "source": [
    "#NORTHEAST BOUNDARY\n",
    "NE_B = (39.965782, -86.014354)\n",
    "#SOUTHWEST BOUNDARY\n",
    "SW_B = (39.638192, -86.362483)\n",
    "\n",
    "df = df[df['GPS_COORD_X'].between(SW_B[0], NE_B[0])]\n",
    "df = df.reset_index(drop=True)\n",
    "df = df[df['GPS_COORD_Y'].between(SW_B[1], NE_B[1])]\n",
    "df = df.reset_index(drop=True)"
   ]
  },
  {
   "cell_type": "markdown",
   "metadata": {},
   "source": [
    "Crediting GEOJSON and TOPOJSON files to http://mapshaper.org/"
   ]
  },
  {
   "cell_type": "code",
   "execution_count": 8,
   "metadata": {},
   "outputs": [
    {
     "data": {
      "text/plain": [
       "<folium.map.LayerControl at 0x10fb54b70>"
      ]
     },
     "execution_count": 8,
     "metadata": {},
     "output_type": "execute_result"
    }
   ],
   "source": [
    "m = folium.Map(location=[df.GPS_COORD_X.mean(), df.GPS_COORD_Y.mean()], tiles='Stamen Toner', zoom_start=11)\n",
    "\n",
    "folium.GeoJson(load(open(\"shapefiles/Indianapolis_Police_Zones/geo_police_zones.json\")), name='geojson').add_to(m)\n",
    "\n",
    "folium.TopoJson(open(\"shapefiles/Indianapolis_Police_Zones/topo_police_zones.json\"),\n",
    "                \"objects.Indianapolis_Police_Zones\",\n",
    "                name='topojson',\n",
    "               ).add_to(m)\n",
    "\n",
    "folium.LayerControl().add_to(m)"
   ]
  },
  {
   "cell_type": "code",
   "execution_count": 9,
   "metadata": {
    "collapsed": true
   },
   "outputs": [],
   "source": [
    "beat_incident_count = df[['BEAT', 'CASE']].groupby(by='BEAT', as_index=False).agg(np.count_nonzero)\n",
    "beat_incident_count.columns = ['BEAT', 'CASE_COUNT']"
   ]
  },
  {
   "cell_type": "code",
   "execution_count": 10,
   "metadata": {
    "scrolled": true
   },
   "outputs": [],
   "source": [
    "def getmap(beat_map_breakdown):\n",
    "    m = folium.Map(location=[df.GPS_COORD_X.mean(), df.GPS_COORD_Y.mean()], tiles='Stamen Toner', zoom_start=11)\n",
    "    m.choropleth(\n",
    "        load(open(\"shapefiles/Indianapolis_Police_Zones/geo_police_zones.json\")),\n",
    "        data=beat_incident_count,\n",
    "        columns=['BEAT', 'CASE_COUNT'],\n",
    "        key_on='properties.POLICEZONE',\n",
    "        fill_color='YlOrRd',\n",
    "        fill_opacity=0.3,\n",
    "        highlight=True,\n",
    "        threshold_scale=list(np.linspace(beat_map_breakdown['CASE_COUNT'].min(), \n",
    "                                         beat_map_breakdown['CASE_COUNT'].max(), \n",
    "                                         num=4))\n",
    "        )\n",
    "\n",
    "    gdf = gpd.read_file(\"shapefiles/Indianapolis_Police_Zones/geo_police_zones.json\")\n",
    "    gdf['X'] = gdf['geometry'].apply(lambda x: x.centroid.coords.xy[1][0])\n",
    "    gdf['Y'] = gdf['geometry'].apply(lambda x: x.centroid.coords.xy[0][0])\n",
    "    idx_chg = gdf[gdf['POLICEZONE']=='Excluded']['POLICEZONE'].index\n",
    "    gdf.loc[idx_chg, 'POLICEZONE'] = gdf.loc[idx_chg]['JURISDCTN'] + \"_\" + gdf.loc[idx_chg]['OBJECTID'].astype(str)\n",
    "\n",
    "    x = gdf.iterrows()\n",
    "    print(x)\n",
    "    while True:\n",
    "        try:\n",
    "            c = next(x)\n",
    "            folium.Marker(location=[c[1]['X'], c[1]['Y']], popup=c[1]['POLICEZONE']).add_to(m)\n",
    "        except:\n",
    "            break\n",
    "    return m"
   ]
  },
  {
   "cell_type": "code",
   "execution_count": 13,
   "metadata": {},
   "outputs": [
    {
     "name": "stdout",
     "output_type": "stream",
     "text": [
      "<generator object DataFrame.iterrows at 0x1100800a0>\n"
     ]
    }
   ],
   "source": [
    "beat_incident_count = df[['BEAT', 'CASE']].groupby(by='BEAT', as_index=False).agg(np.count_nonzero)\n",
    "beat_incident_count.columns = ['BEAT', 'CASE_COUNT']\n",
    "\n",
    "m = getmap(beat_incident_count)"
   ]
  },
  {
   "cell_type": "code",
   "execution_count": 14,
   "metadata": {
    "collapsed": true
   },
   "outputs": [],
   "source": [
    "m.save(\"awesome.html\")"
   ]
  },
  {
   "cell_type": "code",
   "execution_count": null,
   "metadata": {
    "collapsed": true
   },
   "outputs": [],
   "source": []
  }
 ],
 "metadata": {
  "kernelspec": {
   "display_name": "Python 3",
   "language": "python",
   "name": "python3"
  },
  "language_info": {
   "codemirror_mode": {
    "name": "ipython",
    "version": 3
   },
   "file_extension": ".py",
   "mimetype": "text/x-python",
   "name": "python",
   "nbconvert_exporter": "python",
   "pygments_lexer": "ipython3",
   "version": "3.6.4"
  },
  "widgets": {
   "application/vnd.jupyter.widget-state+json": {
    "state": {},
    "version_major": 1,
    "version_minor": 0
   }
  }
 },
 "nbformat": 4,
 "nbformat_minor": 2
}
