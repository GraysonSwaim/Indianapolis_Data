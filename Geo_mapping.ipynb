{
 "cells": [
  {
   "cell_type": "code",
   "execution_count": 1,
   "metadata": {
    "collapsed": true
   },
   "outputs": [],
   "source": [
    "import pandas as pd\n",
    "import numpy as np"
   ]
  },
  {
   "cell_type": "code",
   "execution_count": 3,
   "metadata": {},
   "outputs": [],
   "source": [
    "from pyproj import Proj, transform"
   ]
  },
  {
   "cell_type": "code",
   "execution_count": 51,
   "metadata": {
    "collapsed": true
   },
   "outputs": [],
   "source": [
    "\"\"\"The coordinate system for the IPS incident data spreadhseet is based on this state plane: \n",
    "    NAD_1983_StatePlane_Indiana_East_FIPS_1301_Feet\n",
    "    \n",
    "    I refered to this website to verify the accuracy of the data:\n",
    "    http://www.earthpoint.us/StatePlane.aspx\n",
    "    Select 1301 Indiana East, using the US Survey in Feet\n",
    "    \n",
    "    ALSO READ THIS TO UNDERSTAND HOW TO HANDLE COORDINATE DATA IN ORDER TO PROJECT THEM ONTO A MAP:\n",
    "    http://downloads2.esri.com/support/documentation/ao_/710Understanding_Map_Projections.pdf\n",
    "    \n",
    "\"\"\""
   ]
  },
  {
   "cell_type": "code",
   "execution_count": 62,
   "metadata": {},
   "outputs": [],
   "source": [
    "\"\"\"\n",
    "inProj: input coordinate system\n",
    "outProj: output coordinate system (the basic lat log)\n",
    "This will be fed into the transform function and ultimate spit out the output long lat degrees.\n",
    "\n",
    "Not entirely sure why the parameter \"preserve_units\" must be true. I stumbled upon this in pure luck.\n",
    "\n",
    "I poured thorough the pyproj\\data folder in APPDATA to discover init parameters. I just searched for FIPS 1301 \n",
    "and discovered the comment: \"NAD 1983 StatePlane Indiana East FIPS 1301 Feet\"\n",
    "\n",
    "\"\"\"\n",
    "inProj = Proj(init='esri:102673', preserve_units=True)\n",
    "outProj = Proj(init='epsg:4326')\n",
    "\n",
    "def get_long_lat(x, y):\n",
    "    y, x = transform(inProj, outProj, x, y, radians=False)\n",
    "    return x, y"
   ]
  },
  {
   "cell_type": "code",
   "execution_count": 63,
   "metadata": {},
   "outputs": [
    {
     "data": {
      "text/plain": [
       "(39.76297976719866, -86.11982528169833)"
      ]
     },
     "execution_count": 63,
     "metadata": {},
     "output_type": "execute_result"
    }
   ],
   "source": [
    "get_long_lat(x, y)"
   ]
  }
 ],
 "metadata": {
  "kernelspec": {
   "display_name": "Python [conda root]",
   "language": "python",
   "name": "conda-root-py"
  },
  "language_info": {
   "codemirror_mode": {
    "name": "ipython",
    "version": 2
   },
   "file_extension": ".py",
   "mimetype": "text/x-python",
   "name": "python",
   "nbconvert_exporter": "python",
   "pygments_lexer": "ipython2",
   "version": "2.7.13"
  }
 },
 "nbformat": 4,
 "nbformat_minor": 2
}
